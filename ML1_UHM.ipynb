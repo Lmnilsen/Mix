{
  "nbformat": 4,
  "nbformat_minor": 0,
  "metadata": {
    "colab": {
      "provenance": [],
      "include_colab_link": true
    },
    "kernelspec": {
      "name": "python3",
      "display_name": "Python 3"
    },
    "language_info": {
      "name": "python"
    }
  },
  "cells": [
    {
      "cell_type": "markdown",
      "metadata": {
        "id": "view-in-github",
        "colab_type": "text"
      },
      "source": [
        "<a href=\"https://colab.research.google.com/github/Lmnilsen/Mix/blob/main/ML1_UHM.ipynb\" target=\"_parent\"><img src=\"https://colab.research.google.com/assets/colab-badge.svg\" alt=\"Open In Colab\"/></a>"
      ]
    },
    {
      "cell_type": "markdown",
      "source": [
        "Implement a function for (a) accuracy and (b) 10-fold cross validation using any provided dataset. Fill in the calculate_accuracy and run_ten_fold_cross_validation function templates below.\n",
        "\n",
        "You may not import any Python library apart from the imports which are already provided below. This includes sub-libraries (i.e., you cannot use sklearn beyond the svm module used in the helper functions)."
      ],
      "metadata": {
        "id": "3snNkeep6cDd"
      }
    },
    {
      "cell_type": "code",
      "source": [
        "###\n",
        "### Code imports.\n",
        "###\n",
        "\n",
        "import numpy as np\n",
        "from sklearn import svm\n",
        "from sklearn.datasets import load_iris"
      ],
      "metadata": {
        "id": "-0WeEGFq7xIb"
      },
      "execution_count": 1,
      "outputs": []
    },
    {
      "cell_type": "code",
      "execution_count": 2,
      "metadata": {
        "id": "DlVjvJ436PEf"
      },
      "outputs": [],
      "source": [
        "def train_model(X_train, y_train):\n",
        "  '''\n",
        "  Helper function which returns a trained model given a training\n",
        "  set (X_train, y_train).\n",
        "  '''\n",
        "  clf = svm.SVC()\n",
        "  clf.fit(X_train, y_train)\n",
        "  return clf\n",
        "\n",
        "def make_predictions(model, X_test):\n",
        "  '''\n",
        "  Helper function which returns a NumPy array of predictions given\n",
        "  a model and a set of data points X_test.\n",
        "  '''\n",
        "  return model.predict(X_test)"
      ]
    },
    {
      "cell_type": "code",
      "source": [
        "def calculate_accuracy(y_true, y_pred):\n",
        "  '''\n",
        "  Question 4a\n",
        "\n",
        "  '''\n",
        "  true_pos = 0\n",
        "  true_neg = 0\n",
        "  false_pos = 0\n",
        "  false_neg = 0\n",
        "\n",
        "  for i in range(0, len(y_true)):\n",
        "    if (y_true[i] == y_pred[i]):\n",
        "        if (y_true[i] < 0):\n",
        "          true_pos += 1\n",
        "        else:\n",
        "          true_neg += 1\n",
        "    else:\n",
        "      if (y_pred[i] < 0):\n",
        "          false_pos += 1\n",
        "      else:\n",
        "        false_neg += 1\n",
        "\n",
        "  accuracy = 100 * ((true_pos + true_neg) / (true_pos + true_neg + false_pos + false_neg))\n",
        "  return accuracy"
      ],
      "metadata": {
        "id": "iPSMMyAGHlsU"
      },
      "execution_count": 3,
      "outputs": []
    },
    {
      "cell_type": "code",
      "source": [
        "def unit_test_calculate_accuracy():\n",
        "  '''\n",
        "  Test your solution.\n",
        "  '''\n",
        "\n",
        "  y_true = np.array([0, 0, 0, 1, 1, 1, 2, 2, 2])\n",
        "  y_pred = np.array([0, 0, 1, 1, 2, 1, 0, 1, 2])\n",
        "  accuracy = calculate_accuracy(y_true, y_pred)\n",
        "\n",
        "  print('Calculated accuracy: ', accuracy)\n",
        "  print('Expected accuracy: 55.55555555555556')\n",
        "\n",
        "unit_test_calculate_accuracy()"
      ],
      "metadata": {
        "colab": {
          "base_uri": "https://localhost:8080/"
        },
        "id": "1Dkg4V-mL1zL",
        "outputId": "f04ebda8-1894-4189-dfed-04c4573fc17b"
      },
      "execution_count": 4,
      "outputs": [
        {
          "output_type": "stream",
          "name": "stdout",
          "text": [
            "Calculated accuracy:  55.55555555555556\n",
            "Expected accuracy: 55.55555555555556\n"
          ]
        }
      ]
    },
    {
      "cell_type": "code",
      "source": [
        "def run_ten_fold_cross_validation(X, y):\n",
        "  '''\n",
        "  Question 4b.\n",
        "  '''\n",
        "  parts = len(X) // 10\n",
        "  accuracy = []\n",
        "\n",
        "  for i in range(parts, len(X)+1, parts):\n",
        "    X_test = X[(i-parts): i]\n",
        "    y_test = y[(i-parts): i]\n",
        "    X_train = np.concatenate((X[0:(i-parts)], X[(i):(len(X)+1)]))\n",
        "    y_train  = np.concatenate((y[0:(i-parts)], y[(i):(len(X)+1)]))\n",
        "\n",
        "    model = train_model(X_train, y_train)\n",
        "    y_pred = make_predictions(model, X_test)\n",
        "\n",
        "    accuracy.append(calculate_accuracy(y_test, y_pred))\n",
        "\n",
        "  return np.average(accuracy), np.std(accuracy)\n"
      ],
      "metadata": {
        "id": "-_KOjX2sHmC3"
      },
      "execution_count": 5,
      "outputs": []
    },
    {
      "cell_type": "code",
      "source": [
        "def run_k_fold_cross_validation(X, y, k):\n",
        "  '''\n",
        "  Question extra credit\n",
        "  '''\n",
        "\n",
        "  parts = len(X) // k\n",
        "  accuracy = []\n",
        "\n",
        "  for i in range(parts, len(X)+1, parts):\n",
        "    X_test = X[(i-parts): i]\n",
        "    y_test = y[(i-parts): i]\n",
        "    X_train = np.concatenate((X[0:(i-parts)], X[(i):(len(X)+1)]))\n",
        "    y_train  = np.concatenate((y[0:(i-parts)], y[(i):(len(X)+1)]))\n",
        "\n",
        "    model = train_model(X_train, y_train)\n",
        "    y_pred = make_predictions(model, X_test)\n",
        "\n",
        "    accuracy.append(calculate_accuracy(y_test, y_pred))\n",
        "\n",
        "  return np.average(accuracy), np.std(accuracy)"
      ],
      "metadata": {
        "id": "tkY7CQeeG99T"
      },
      "execution_count": 6,
      "outputs": []
    },
    {
      "cell_type": "code",
      "source": [
        "def unit_test_cross_validation_example():\n",
        "  '''\n",
        "  Test your solution.\n",
        "  '''\n",
        "\n",
        "  X, y = load_iris(return_X_y=True)\n",
        "  mean_accuracy, std_accuracy = run_k_fold_cross_validation(X, y, 10)\n",
        "\n",
        "  print('Mean accuracy: ', mean_accuracy, ' +/- ', std_accuracy)\n",
        "  print('Expected mean and standard deviation: 93.33333333333334  +/-  7.302967433402213')\n",
        "\n",
        "unit_test_cross_validation_example()\n"
      ],
      "metadata": {
        "colab": {
          "base_uri": "https://localhost:8080/"
        },
        "id": "IT2U9umW7bKv",
        "outputId": "ec45ed9d-df0f-4e30-a34f-d547d67972a1"
      },
      "execution_count": 7,
      "outputs": [
        {
          "output_type": "stream",
          "name": "stdout",
          "text": [
            "Mean accuracy:  93.33333333333334  +/-  7.302967433402213\n",
            "Expected mean and standard deviation: 93.33333333333334  +/-  7.302967433402213\n"
          ]
        }
      ]
    },
    {
      "cell_type": "code",
      "source": [],
      "metadata": {
        "id": "HSHdmAsUdA-5"
      },
      "execution_count": null,
      "outputs": []
    }
  ]
}