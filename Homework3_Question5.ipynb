{
  "nbformat": 4,
  "nbformat_minor": 0,
  "metadata": {
    "colab": {
      "provenance": [],
      "include_colab_link": true
    },
    "kernelspec": {
      "name": "python3",
      "display_name": "Python 3"
    },
    "language_info": {
      "name": "python"
    }
  },
  "cells": [
    {
      "cell_type": "markdown",
      "metadata": {
        "id": "view-in-github",
        "colab_type": "text"
      },
      "source": [
        "<a href=\"https://colab.research.google.com/github/Lmnilsen/Mix/blob/main/Homework3_Question5.ipynb\" target=\"_parent\"><img src=\"https://colab.research.google.com/assets/colab-badge.svg\" alt=\"Open In Colab\"/></a>"
      ]
    },
    {
      "cell_type": "code",
      "execution_count": null,
      "metadata": {
        "id": "w0V6Cw-35lVs"
      },
      "outputs": [],
      "source": [
        "###\n",
        "### Code imports.\n",
        "###\n",
        "\n",
        "import numpy as np"
      ]
    },
    {
      "cell_type": "code",
      "source": [
        "class NaiveBayesClassifier:\n",
        "  def __init__(self, smoothing_parameter):\n",
        "    '''\n",
        "    Input a smoothing parameter beta.\n",
        "    '''\n",
        "    self.smoothing_parameter = smoothing_parameter\n",
        "\n",
        "  def fit(self, X_train, y_train):\n",
        "    '''\n",
        "    Each row in X_train respresents a sentence. \n",
        "    X_train[i][0] is an indicator of the word \"free\".\n",
        "    X_train[i][1] is an indicator of the word \"dear\".\n",
        "    X_train[i][2] is an indicator of the word \"sincerely\".\n",
        "\n",
        "    Each row in y_train represents the corresponding classification of each row\n",
        "    in X_train. 0 = not spam, 1 = spam.\n",
        "    '''\n",
        "\n",
        "    ### Calculate prior probabilities (no smoothing).\n",
        "    self.prob_spam = 1 # TODO - FILL THIS IN WITH THE CORRECT PROBABILITY\n",
        "    self.prob_nospam = 1 # TODO - FILL THIS IN WITH THE CORRECT PROBABILITY\n",
        "\n",
        "    ### Calculate conditional probabilities (use smoothing).\n",
        "    self.prob_free_given_spam = 1 # TODO - FILL THIS IN WITH THE CORRECT PROBABILITY\n",
        "    self.prob_dear_given_spam = 1 # TODO - FILL THIS IN WITH THE CORRECT PROBABILITY\n",
        "    self.prob_sincerely_given_spam = 1 # TODO - FILL THIS IN WITH THE CORRECT PROBABILITY\n",
        "\n",
        "    self.prob_nofree_given_spam = 1 # TODO - FILL THIS IN WITH THE CORRECT PROBABILITY\n",
        "    self.prob_nodear_given_spam = 1 # TODO - FILL THIS IN WITH THE CORRECT PROBABILITY\n",
        "    self.prob_nosincerely_given_spam = 1 # TODO - FILL THIS IN WITH THE CORRECT PROBABILITY\n",
        "\n",
        "    self.prob_free_given_nospam = 1 # TODO - FILL THIS IN WITH THE CORRECT PROBABILITY\n",
        "    self.prob_dear_given_nospam = 1 # TODO - FILL THIS IN WITH THE CORRECT PROBABILITY\n",
        "    self.prob_sincerely_given_nospam = 1 # TODO - FILL THIS IN WITH THE CORRECT PROBABILITY\n",
        "\n",
        "    self.prob_nofree_given_nospam = 1 # TODO - FILL THIS IN WITH THE CORRECT PROBABILITY\n",
        "    self.prob_nodear_given_nospam = 1 # TODO - FILL THIS IN WITH THE CORRECT PROBABILITY\n",
        "    self.prob_nosincerely_given_nospam = 1 # TODO - FILL THIS IN WITH THE CORRECT PROBABILITY\n",
        "\n",
        "  def predict(self, x_test):\n",
        "    '''\n",
        "    Make a prediction of either spam (1) or not spam (0) for a single test data point x_test.\n",
        "\n",
        "    Return a tuple of form \n",
        "    (prediction of 0 or 1, \n",
        "    numerator [of Bayes Rule] of probability of not spam from 0 to 1, \n",
        "    numerator [of Bayes Rule] of probability of spam from 0 to 1)\n",
        "    '''\n",
        "    prob_spam = 1 # TODO - FILL THIS IN WITH THE NUMERATOR OF THE CORRECT PROBABILITY (numerator of Bayes Rule)\n",
        "    prob_nospam = 1 # TODO - FILL THIS IN WITH THE NUMERATOR OF THE THE CORRECT PROBABILITY (numerator of Bayes Rule)\n",
        "\n",
        "    if prob_spam > prob_nospam:\n",
        "      return (1, prob_nospam, prob_spam)\n",
        "    else:\n",
        "      return (0, prob_nospam, prob_spam)\n",
        "\n"
      ],
      "metadata": {
        "id": "f4LlHG3w5shy"
      },
      "execution_count": null,
      "outputs": []
    },
    {
      "cell_type": "code",
      "source": [
        "def unit_test():\n",
        "  '''\n",
        "  Test your solution.\n",
        "  '''\n",
        "  X_train = np.array([[1,1,1], \n",
        "                      [1,1,0],\n",
        "                      [0,0,0],\n",
        "                      [0,1,0],\n",
        "                      [1,0,1],\n",
        "                      [1,0,1],\n",
        "                      [0,1,0],\n",
        "                      [0,1,1]])\n",
        "  y_train = np.array([ 1, 1, 0, 0, 1, 1, 0, 0 ])\n",
        "  clf = NaiveBayesClassifier(0.001)\n",
        "  clf.fit(X_train, y_train)\n",
        "\n",
        "  X_test = np.array([[1,0,0], \n",
        "                     [1,0,1],\n",
        "                     [0,1,1],\n",
        "                     [0,0,1]])\n",
        "  \n",
        "  print('Expected output: ')\n",
        "  print_str = '''\n",
        "(1, 2.3433589849604016e-05, 0.06251560938671095)\n",
        "(1, 7.816402345702639e-06, 0.1874219218476719)\n",
        "(0, 0.09375779298826566, 4.6843769519538096e-05)\n",
        "(0, 0.03127342578515625, 4.6843769519538096e-05)\n",
        "  '''\n",
        "  print(print_str)\n",
        "\n",
        "  print('Actual output: \\n')\n",
        "  for x_test in X_test:\n",
        "    print(clf.predict(x_test))\n",
        "\n",
        "unit_test()"
      ],
      "metadata": {
        "id": "TjuwxxcY5slT",
        "colab": {
          "base_uri": "https://localhost:8080/"
        },
        "outputId": "e1bb3de2-6e70-44bc-a049-73bc2ea576eb"
      },
      "execution_count": null,
      "outputs": [
        {
          "output_type": "stream",
          "name": "stdout",
          "text": [
            "Expected output: \n",
            "\n",
            "(1, 2.3433589849604016e-05, 0.06251560938671095)\n",
            "(1, 7.816402345702639e-06, 0.1874219218476719)\n",
            "(0, 0.09375779298826566, 4.6843769519538096e-05)\n",
            "(0, 0.03127342578515625, 4.6843769519538096e-05)\n",
            "  \n",
            "Actual output: \n",
            "\n",
            "(0, 1, 1)\n",
            "(0, 1, 1)\n",
            "(0, 1, 1)\n",
            "(0, 1, 1)\n"
          ]
        }
      ]
    }
  ]
}